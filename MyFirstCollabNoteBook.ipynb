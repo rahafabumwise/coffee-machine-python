{
  "nbformat": 4,
  "nbformat_minor": 0,
  "metadata": {
    "colab": {
      "provenance": [],
      "authorship_tag": "ABX9TyObcGTYGfh9c5hRy0QO+cHC",
      "include_colab_link": true
    },
    "kernelspec": {
      "name": "python3",
      "display_name": "Python 3"
    },
    "language_info": {
      "name": "python"
    }
  },
  "cells": [
    {
      "cell_type": "markdown",
      "metadata": {
        "id": "view-in-github",
        "colab_type": "text"
      },
      "source": [
        "<a href=\"https://colab.research.google.com/github/rahafabumwise/coffee-machine-python/blob/main/MyFirstCollabNoteBook.ipynb\" target=\"_parent\"><img src=\"https://colab.research.google.com/assets/colab-badge.svg\" alt=\"Open In Colab\"/></a>"
      ]
    },
    {
      "cell_type": "code",
      "execution_count": 1,
      "metadata": {
        "colab": {
          "base_uri": "https://localhost:8080/"
        },
        "id": "gRIKP_jjUZO6",
        "outputId": "5a9f8a0b-381c-4993-ff28-53f369cb7f53"
      },
      "outputs": [
        {
          "output_type": "stream",
          "name": "stdout",
          "text": [
            "Wed Oct 15 14:52:10 2025\n"
          ]
        }
      ],
      "source": [
        "import time\n",
        "print(time.ctime())"
      ]
    },
    {
      "cell_type": "code",
      "source": [
        "time.sleep(5)\n",
        "print(time.ctime())"
      ],
      "metadata": {
        "colab": {
          "base_uri": "https://localhost:8080/"
        },
        "id": "yxunVPZhWHpv",
        "outputId": "b1ffe3ca-ffab-4910-bc2d-dd00ed547357"
      },
      "execution_count": 2,
      "outputs": [
        {
          "output_type": "stream",
          "name": "stdout",
          "text": [
            "Wed Oct 15 14:52:15 2025\n"
          ]
        }
      ]
    },
    {
      "cell_type": "markdown",
      "source": [
        "This is **bold**.\n",
        "This is *italic*.\n",
        "This is ~strikethrough~.\n"
      ],
      "metadata": {
        "id": "5tvynzmHYBev"
      }
    },
    {
      "cell_type": "markdown",
      "source": [
        "$\\sqrt{3x-1}+(x+1)^2$\n",
        "$e^x = \\sum_{i = 0}^\\infty\\frac{1}{i!}x^i$"
      ],
      "metadata": {
        "id": "KOi0NXvdZF_R"
      }
    },
    {
      "cell_type": "markdown",
      "source": [
        "Constraints are\n",
        "- $3x_1 + 6x_2 + x_3 <= 28$\n",
        "- $7x_1 + 3x_2 + 2x_3 <= 37$\n",
        "- $4x_1 + 5x_2 + 2x_3 <= 19$\n",
        "- $x_1, x_2, x_3 >= 0$\n",
        "\n",
        "The trial vector is calculated as follows:\n",
        "- $w_i(t) = x_i(t) + \\beta(\\hat{x}(t) - x_i(t)) + \\beta \\sum_{k = 1}^{n_v}(x_{i1,k}(t) - x_{i2,k}(t))$\n",
        "$f(x_1, x_2) = 20 + e - 20exp(-0.2 \\sqrt{\\frac {1}{n}(x_1^2 + x_2^2)}) - exp (\\frac {1}{n}(cos(2\\pi x_1) + cos(2\\pi x_2)))$\n",
        "\n",
        "$x \\in [-5, 5]$\n",
        ">$A_{m,n} =\n",
        "\\begin{pmatrix}\n",
        "a_{1,1} > a_{1,2} > \\cdots > a_{1,n} \\\\\n",
        "a_{2,1} > a_{2,2} > \\cdots > a_{2,n} \\\\\n",
        "\\vdots > \\vdots > \\ddots > \\vdots \\\\\n",
        "a_{m,1} > a_{m,2} > \\cdots > a_{m,n}\n",
        "\\end{pmatrix}$\n"
      ],
      "metadata": {
        "id": "8uGpUlp0qOJn"
      }
    }
  ]
}